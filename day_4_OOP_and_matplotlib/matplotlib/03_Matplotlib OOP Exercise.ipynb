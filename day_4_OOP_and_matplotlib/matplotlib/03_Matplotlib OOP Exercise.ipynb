{
 "cells": [
  {
   "cell_type": "markdown",
   "metadata": {},
   "source": [
    "### Matplotlib Object Oriented Programming Exercises"
   ]
  },
  {
   "cell_type": "markdown",
   "metadata": {},
   "source": [
    "In this exercise we will write a class which will take a pandas dataframe and output a set of plots describing the dataframe. For this we will use data from http://earthquake.usgs.gov/ which maintains csv files corresponding to data of earthquake occurrences sorted according to earthquakes magnitude, ranging from significant only down to all earthquakes, major or minor. The csv files are available here "
   ]
  },
  {
   "cell_type": "code",
   "execution_count": null,
   "metadata": {},
   "outputs": [],
   "source": [
    "feed=\"http://earthquake.usgs.gov/earthquakes/feed/v1.0/summary/\""
   ]
  },
  {
   "cell_type": "code",
   "execution_count": null,
   "metadata": {},
   "outputs": [],
   "source": [
    "import numpy as np\n",
    "import pandas as pd\n",
    "#import urllib2\n",
    "import matplotlib as mpl\n",
    "%pylab inline"
   ]
  },
  {
   "cell_type": "markdown",
   "metadata": {},
   "source": [
    "Check if you have the updated version of Matplotlib i.e 1.5.0. If not you can udate it using linux command sudo pip install --upgrade matplotlib for unix boxes and corresponding brew command for mac"
   ]
  },
  {
   "cell_type": "code",
   "execution_count": null,
   "metadata": {},
   "outputs": [],
   "source": [
    "print(mpl.__version__)"
   ]
  },
  {
   "cell_type": "markdown",
   "metadata": {},
   "source": [
    "### Acquiring Data ###\n",
    "\n",
    "For this assignment we will be working with the following csv files\n",
    "\n",
    "1. Significant earthquakes in the last 30 days : feed + \"significant_month.csv\"\n",
    "2. Magnitude > 4.5 : feed + \"4.5_month.csv\"\n",
    "3. Magnitude > 2.5 : feed + \"2.5_month.csv\"\n",
    "4. Magnitude > 1.0 : feed + \"1.0_month.csv\""
   ]
  },
  {
   "cell_type": "markdown",
   "metadata": {},
   "source": [
    "### Q1 (answered)\n",
    "Write a function which takes an integer input from 1 to 4 and outputs a pandas dataframe corresponding to the csv file above. Note that the function should necessarily download the data from the website via internet."
   ]
  },
  {
   "cell_type": "code",
   "execution_count": null,
   "metadata": {},
   "outputs": [],
   "source": [
    "filenames=[\"significant_month.csv\",\n",
    "           \"4.5_month.csv\",\n",
    "           \"2.5_month.csv\",\n",
    "           \"1.0_month.csv\"]\n",
    "def download_data(i):\n",
    "    url=feed+filenames[i-1];\n",
    "    print('downloading',url)\n",
    "    return pd.read_csv(url);"
   ]
  },
  {
   "cell_type": "code",
   "execution_count": null,
   "metadata": {},
   "outputs": [],
   "source": [
    "last_30 = download_data(1)\n",
    "data_45 = download_data(2)\n",
    "data_25 = download_data(3)\n",
    "data_10 = download_data(4)\n",
    "last_30.head()"
   ]
  },
  {
   "cell_type": "markdown",
   "metadata": {},
   "source": [
    "### Q2) Analyzing the data ###\n",
    "\n",
    "In order to understand the data we will plot different attributes of the data using tools provided by matplotlib.\n",
    "In order to do that, we will first create a class object for the given dataframe.\n",
    "\n",
    "2.1) The class will have a set of functions to generate different plots. The first function will output a histogram taking column type as input. The column type is restricted to latitude or longitude. Take default interval size as 10 degrees\n",
    "\n",
    "2.2) Write another function which when called will output a scatter plot of longitude vs. latitude. For extra credit represent each earthquake by a circle whose area is proporportional to the strength of the earthquake."
   ]
  },
  {
   "cell_type": "code",
   "execution_count": null,
   "metadata": {},
   "outputs": [],
   "source": [
    "def DF_hist(df,col='longitude'):\n",
    "    Min=df[col].min();\n",
    "    Max=df[col].max();\n",
    "    print(Min,Max)\n",
    "    df.hist(column=col,bins=int((Max-Min)/10.0))\n",
    "DF_hist(data_25)"
   ]
  },
  {
   "cell_type": "code",
   "execution_count": null,
   "metadata": {},
   "outputs": [],
   "source": [
    "class dataPlot(object):\n",
    "    \"\"\"dataPlot takes a pandas dataframe as input and outputs different plots correspondng to the input dataframe\"\"\"\n",
    "    \n",
    "    def __init__(self,df):\n",
    "        \"\"\"Initialize variables\"\"\"\n",
    "        raise \"TODO\"\n",
    "        \n",
    "    def histogram(self,col):\n",
    "        raise \"TODO\"\n",
    "        \n",
    "    def scatter(self,col1,col2):\n",
    "        raise \"TODO\"  "
   ]
  },
  {
   "cell_type": "code",
   "execution_count": null,
   "metadata": {},
   "outputs": [],
   "source": [
    "#The folloring command should now generate a histogram and a scatter-plot\n",
    "D=dataPlot(data_45)\n",
    "D.histogram('mag')\n",
    "D.scatter('longitude','latitude')"
   ]
  },
  {
   "cell_type": "markdown",
   "metadata": {},
   "source": [
    "### Q3) Plotting data on the map ###"
   ]
  },
  {
   "cell_type": "markdown",
   "metadata": {
    "scrolled": true
   },
   "source": [
    "In the last class we had used basemap to plot the weather data. Now we will use basemap to plot the earthquake data, and further enhance it with a rain animation to indicate the severity of the incident. We will start initially with the dataset corresponding to earthquakes magnitude > 4.5"
   ]
  },
  {
   "cell_type": "code",
   "execution_count": null,
   "metadata": {},
   "outputs": [],
   "source": [
    "data_45 = download_data(2)"
   ]
  },
  {
   "cell_type": "markdown",
   "metadata": {},
   "source": [
    "First we will import necessary libraries"
   ]
  },
  {
   "cell_type": "code",
   "execution_count": null,
   "metadata": {},
   "outputs": [],
   "source": [
    "from mpl_toolkits.basemap import Basemap"
   ]
  },
  {
   "cell_type": "markdown",
   "metadata": {},
   "source": [
    "Next we will generate a figure canvas with a basemap projection. We will use the 'mill' projection of Basemap for this assignment. "
   ]
  },
  {
   "cell_type": "code",
   "execution_count": null,
   "metadata": {},
   "outputs": [],
   "source": [
    "#General plot  initializations\n",
    "fig = figure(figsize=(14,10))\n",
    "ax = subplot(1,1,1)\n",
    "earth = Basemap(projection='mill')\n",
    "# We then draw coastlines and continents\n",
    "earth.drawcoastlines(color='0.50', linewidth=0.25);\n",
    "earth.fillcontinents(color='0.95');"
   ]
  },
  {
   "cell_type": "markdown",
   "metadata": {},
   "source": [
    "### Q3) \n",
    "\n",
    "Consult the documentation about scatterplots on maps:\n",
    "```\n",
    "http://matplotlib.org/basemap/api/basemap_api.html#mpl_toolkits.basemap.Basemap.scatter\n",
    "```\n",
    "write a function that takes as input a dataframe and plots a map and on top of the map a circle at the location of each earthquake in the dataframe.\n",
    "\n",
    "Use size to convey the intensity of each earthquake. Make the the circles semi-transparent so that the intensity of the color conveys the number of earthquakes that have occured.\n",
    "\n",
    "Finally wrap the function in a class that has methods for plotting an array of scatterplots from the same data-frame, each for a different time period."
   ]
  }
 ],
 "metadata": {
  "kernelspec": {
   "display_name": "Python 3",
   "language": "python",
   "name": "python3"
  },
  "language_info": {
   "codemirror_mode": {
    "name": "ipython",
    "version": 3
   },
   "file_extension": ".py",
   "mimetype": "text/x-python",
   "name": "python",
   "nbconvert_exporter": "python",
   "pygments_lexer": "ipython3",
   "version": "3.6.4"
  }
 },
 "nbformat": 4,
 "nbformat_minor": 1
}
